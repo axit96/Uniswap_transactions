{
 "cells": [
  {
   "cell_type": "code",
   "execution_count": 550,
   "id": "satisfactory-badge",
   "metadata": {},
   "outputs": [
    {
     "name": "stdout",
     "output_type": "stream",
     "text": [
      "Requirement already satisfied: gql in c:\\users\\akshit\\anaconda3\\envs\\tensorflow\\lib\\site-packages (2.0.0)\n",
      "Requirement already satisfied: requests<3,>=2.12 in c:\\users\\akshit\\anaconda3\\envs\\tensorflow\\lib\\site-packages (from gql) (2.25.1)\n",
      "Requirement already satisfied: promise<3,>=2.3 in c:\\users\\akshit\\anaconda3\\envs\\tensorflow\\lib\\site-packages (from gql) (2.3)\n",
      "Requirement already satisfied: six>=1.10.0 in c:\\users\\akshit\\anaconda3\\envs\\tensorflow\\lib\\site-packages (from gql) (1.15.0)\n",
      "Requirement already satisfied: graphql-core<3,>=2.3.2 in c:\\users\\akshit\\anaconda3\\envs\\tensorflow\\lib\\site-packages (from gql) (2.3.2)\n",
      "Requirement already satisfied: rx<2,>=1.6 in c:\\users\\akshit\\anaconda3\\envs\\tensorflow\\lib\\site-packages (from graphql-core<3,>=2.3.2->gql) (1.6.1)\n",
      "Requirement already satisfied: urllib3<1.27,>=1.21.1 in c:\\users\\akshit\\anaconda3\\envs\\tensorflow\\lib\\site-packages (from requests<3,>=2.12->gql) (1.26.2)\n",
      "Requirement already satisfied: idna<3,>=2.5 in c:\\users\\akshit\\anaconda3\\envs\\tensorflow\\lib\\site-packages (from requests<3,>=2.12->gql) (2.10)\n",
      "Requirement already satisfied: certifi>=2017.4.17 in c:\\users\\akshit\\anaconda3\\envs\\tensorflow\\lib\\site-packages (from requests<3,>=2.12->gql) (2021.5.30)\n",
      "Requirement already satisfied: chardet<5,>=3.0.2 in c:\\users\\akshit\\anaconda3\\envs\\tensorflow\\lib\\site-packages (from requests<3,>=2.12->gql) (4.0.0)\n"
     ]
    }
   ],
   "source": [
    "!pip install gql\n",
    "from gql import gql, Client\n",
    "from gql.transport.requests import RequestsHTTPTransport\n",
    "sample_transport=RequestsHTTPTransport(\n",
    "   url='https://api.thegraph.com/subgraphs/name/uniswap/uniswap-v2',\n",
    "   verify=True,\n",
    ")\n",
    "client = Client(\n",
    "   transport=sample_transport\n",
    ")"
   ]
  },
  {
   "cell_type": "code",
   "execution_count": 533,
   "id": "signed-party",
   "metadata": {},
   "outputs": [],
   "source": [
    "query = gql('''\n",
    "{\n",
    "swaps(first:1000, orderBy: timestamp, orderDirection: desc, where:\n",
    " { pair: \"0xd3d2e2692501a5c9ca623199d38826e513033a17\" }\n",
    ") {\n",
    "     pair {\n",
    "       token0 {\n",
    "         symbol\n",
    "       }\n",
    "       token0Price\n",
    "       token1 {\n",
    "         symbol\n",
    "       }\n",
    "       token1Price\n",
    "       volumeUSD\n",
    "     }\n",
    "     id\n",
    "     timestamp\n",
    "     amount0In\n",
    "     amount0Out\n",
    "     amount1In\n",
    "     amount1Out\n",
    "     amountUSD\n",
    "     to\n",
    " }\n",
    "}\n",
    "''')"
   ]
  },
  {
   "cell_type": "code",
   "execution_count": 534,
   "id": "damaged-update",
   "metadata": {},
   "outputs": [],
   "source": [
    "response = client.execute(query)"
   ]
  },
  {
   "cell_type": "code",
   "execution_count": 535,
   "id": "systematic-validation",
   "metadata": {
    "scrolled": false
   },
   "outputs": [
    {
     "data": {
      "text/html": [
       "<div>\n",
       "<style scoped>\n",
       "    .dataframe tbody tr th:only-of-type {\n",
       "        vertical-align: middle;\n",
       "    }\n",
       "\n",
       "    .dataframe tbody tr th {\n",
       "        vertical-align: top;\n",
       "    }\n",
       "\n",
       "    .dataframe thead th {\n",
       "        text-align: right;\n",
       "    }\n",
       "</style>\n",
       "<table border=\"1\" class=\"dataframe\">\n",
       "  <thead>\n",
       "    <tr style=\"text-align: right;\">\n",
       "      <th></th>\n",
       "      <th>DateTime</th>\n",
       "      <th>Transaction_Id</th>\n",
       "      <th>Symbol0</th>\n",
       "      <th>Symbol1</th>\n",
       "      <th>Symbol0_In</th>\n",
       "      <th>Symbol1_In</th>\n",
       "      <th>Symbol0_Out</th>\n",
       "      <th>Symbol1_Out</th>\n",
       "      <th>Transaction_amount</th>\n",
       "    </tr>\n",
       "  </thead>\n",
       "  <tbody>\n",
       "    <tr>\n",
       "      <th>0</th>\n",
       "      <td>2021-06-23 13:13:21</td>\n",
       "      <td>0x00f140310777f189be46163f3b506abcd73493002cf7...</td>\n",
       "      <td>UNI</td>\n",
       "      <td>WETH</td>\n",
       "      <td>55.000000</td>\n",
       "      <td>0.000000</td>\n",
       "      <td>0.000000</td>\n",
       "      <td>0.489112</td>\n",
       "      <td>983.273306</td>\n",
       "    </tr>\n",
       "    <tr>\n",
       "      <th>1</th>\n",
       "      <td>2021-06-23 13:09:31</td>\n",
       "      <td>0xb1d81a1986256c6e1f7598343946a22495f583966f85...</td>\n",
       "      <td>UNI</td>\n",
       "      <td>WETH</td>\n",
       "      <td>5.373262</td>\n",
       "      <td>0.000000</td>\n",
       "      <td>0.000000</td>\n",
       "      <td>0.047785</td>\n",
       "      <td>96.023815</td>\n",
       "    </tr>\n",
       "    <tr>\n",
       "      <th>2</th>\n",
       "      <td>2021-06-23 13:09:31</td>\n",
       "      <td>0x932047a964197f61ec94427a945369ecf752f05f3206...</td>\n",
       "      <td>UNI</td>\n",
       "      <td>WETH</td>\n",
       "      <td>21.250000</td>\n",
       "      <td>0.000000</td>\n",
       "      <td>0.000000</td>\n",
       "      <td>0.188982</td>\n",
       "      <td>379.756268</td>\n",
       "    </tr>\n",
       "    <tr>\n",
       "      <th>3</th>\n",
       "      <td>2021-06-23 13:08:28</td>\n",
       "      <td>0xf0619cee72839c98de52ec0be8c4a74d0bc821a0cb9c...</td>\n",
       "      <td>UNI</td>\n",
       "      <td>WETH</td>\n",
       "      <td>298.866402</td>\n",
       "      <td>0.000000</td>\n",
       "      <td>0.000000</td>\n",
       "      <td>2.658276</td>\n",
       "      <td>5340.306655</td>\n",
       "    </tr>\n",
       "    <tr>\n",
       "      <th>4</th>\n",
       "      <td>2021-06-23 13:08:28</td>\n",
       "      <td>0x96283c34b625c921bbaa6cc8d6b5ae0e4ac960fda003...</td>\n",
       "      <td>UNI</td>\n",
       "      <td>WETH</td>\n",
       "      <td>534.479348</td>\n",
       "      <td>0.000000</td>\n",
       "      <td>0.000000</td>\n",
       "      <td>4.755669</td>\n",
       "      <td>9553.836299</td>\n",
       "    </tr>\n",
       "    <tr>\n",
       "      <th>...</th>\n",
       "      <td>...</td>\n",
       "      <td>...</td>\n",
       "      <td>...</td>\n",
       "      <td>...</td>\n",
       "      <td>...</td>\n",
       "      <td>...</td>\n",
       "      <td>...</td>\n",
       "      <td>...</td>\n",
       "      <td>...</td>\n",
       "    </tr>\n",
       "    <tr>\n",
       "      <th>995</th>\n",
       "      <td>2021-06-21 15:49:31</td>\n",
       "      <td>0x59fdf66a30319e39c8aed7ab2f5c5a61840f5fdd2e9c...</td>\n",
       "      <td>UNI</td>\n",
       "      <td>WETH</td>\n",
       "      <td>866.167588</td>\n",
       "      <td>0.000000</td>\n",
       "      <td>0.000000</td>\n",
       "      <td>7.741735</td>\n",
       "      <td>15375.393795</td>\n",
       "    </tr>\n",
       "    <tr>\n",
       "      <th>996</th>\n",
       "      <td>2021-06-21 15:41:49</td>\n",
       "      <td>0xe80dbaf88688f637ea4a00c856b60c868c3f94f3a193...</td>\n",
       "      <td>UNI</td>\n",
       "      <td>WETH</td>\n",
       "      <td>0.000000</td>\n",
       "      <td>0.632221</td>\n",
       "      <td>70.286957</td>\n",
       "      <td>0.000000</td>\n",
       "      <td>1265.377964</td>\n",
       "    </tr>\n",
       "    <tr>\n",
       "      <th>997</th>\n",
       "      <td>2021-06-21 15:41:07</td>\n",
       "      <td>0xf85aabf23178478b4b8d50f60754e6315218e686cdc9...</td>\n",
       "      <td>UNI</td>\n",
       "      <td>WETH</td>\n",
       "      <td>843.631654</td>\n",
       "      <td>0.000000</td>\n",
       "      <td>0.000000</td>\n",
       "      <td>7.545400</td>\n",
       "      <td>15042.980051</td>\n",
       "    </tr>\n",
       "    <tr>\n",
       "      <th>998</th>\n",
       "      <td>2021-06-21 15:40:42</td>\n",
       "      <td>0xa7cdf77952462dd3fe5d2508358645c93b0225455631...</td>\n",
       "      <td>UNI</td>\n",
       "      <td>WETH</td>\n",
       "      <td>397.764972</td>\n",
       "      <td>0.000000</td>\n",
       "      <td>0.000000</td>\n",
       "      <td>3.559490</td>\n",
       "      <td>7085.147281</td>\n",
       "    </tr>\n",
       "    <tr>\n",
       "      <th>999</th>\n",
       "      <td>2021-06-21 15:40:16</td>\n",
       "      <td>0xfb86dd7730fb4e202e20f1db5eaf338a1df12f4a6998...</td>\n",
       "      <td>UNI</td>\n",
       "      <td>WETH</td>\n",
       "      <td>1969.306391</td>\n",
       "      <td>0.000000</td>\n",
       "      <td>0.000000</td>\n",
       "      <td>17.650487</td>\n",
       "      <td>35133.322607</td>\n",
       "    </tr>\n",
       "  </tbody>\n",
       "</table>\n",
       "<p>1000 rows × 9 columns</p>\n",
       "</div>"
      ],
      "text/plain": [
       "               DateTime                                     Transaction_Id  \\\n",
       "0   2021-06-23 13:13:21  0x00f140310777f189be46163f3b506abcd73493002cf7...   \n",
       "1   2021-06-23 13:09:31  0xb1d81a1986256c6e1f7598343946a22495f583966f85...   \n",
       "2   2021-06-23 13:09:31  0x932047a964197f61ec94427a945369ecf752f05f3206...   \n",
       "3   2021-06-23 13:08:28  0xf0619cee72839c98de52ec0be8c4a74d0bc821a0cb9c...   \n",
       "4   2021-06-23 13:08:28  0x96283c34b625c921bbaa6cc8d6b5ae0e4ac960fda003...   \n",
       "..                  ...                                                ...   \n",
       "995 2021-06-21 15:49:31  0x59fdf66a30319e39c8aed7ab2f5c5a61840f5fdd2e9c...   \n",
       "996 2021-06-21 15:41:49  0xe80dbaf88688f637ea4a00c856b60c868c3f94f3a193...   \n",
       "997 2021-06-21 15:41:07  0xf85aabf23178478b4b8d50f60754e6315218e686cdc9...   \n",
       "998 2021-06-21 15:40:42  0xa7cdf77952462dd3fe5d2508358645c93b0225455631...   \n",
       "999 2021-06-21 15:40:16  0xfb86dd7730fb4e202e20f1db5eaf338a1df12f4a6998...   \n",
       "\n",
       "    Symbol0 Symbol1   Symbol0_In  Symbol1_In  Symbol0_Out  Symbol1_Out  \\\n",
       "0       UNI    WETH    55.000000    0.000000     0.000000     0.489112   \n",
       "1       UNI    WETH     5.373262    0.000000     0.000000     0.047785   \n",
       "2       UNI    WETH    21.250000    0.000000     0.000000     0.188982   \n",
       "3       UNI    WETH   298.866402    0.000000     0.000000     2.658276   \n",
       "4       UNI    WETH   534.479348    0.000000     0.000000     4.755669   \n",
       "..      ...     ...          ...         ...          ...          ...   \n",
       "995     UNI    WETH   866.167588    0.000000     0.000000     7.741735   \n",
       "996     UNI    WETH     0.000000    0.632221    70.286957     0.000000   \n",
       "997     UNI    WETH   843.631654    0.000000     0.000000     7.545400   \n",
       "998     UNI    WETH   397.764972    0.000000     0.000000     3.559490   \n",
       "999     UNI    WETH  1969.306391    0.000000     0.000000    17.650487   \n",
       "\n",
       "     Transaction_amount  \n",
       "0            983.273306  \n",
       "1             96.023815  \n",
       "2            379.756268  \n",
       "3           5340.306655  \n",
       "4           9553.836299  \n",
       "..                  ...  \n",
       "995        15375.393795  \n",
       "996         1265.377964  \n",
       "997        15042.980051  \n",
       "998         7085.147281  \n",
       "999        35133.322607  \n",
       "\n",
       "[1000 rows x 9 columns]"
      ]
     },
     "execution_count": 535,
     "metadata": {},
     "output_type": "execute_result"
    }
   ],
   "source": [
    "import pandas as pd\n",
    "from datetime import datetime\n",
    "id=[]\n",
    "for i in range(len(response['swaps'])):\n",
    "    id.append(response['swaps'][i]['timestamp'])\n",
    "\n",
    "for i in range(len(response['swaps'])):\n",
    "    id[i] = datetime.fromtimestamp(int(id[i]))\n",
    "\n",
    "symbol0_in=[]\n",
    "symbol0_out=[]\n",
    "symbol1_in=[]\n",
    "symbol1_out=[]\n",
    "symbol0=[]\n",
    "symbol1=[]\n",
    "tran_id=[]\n",
    "volume=[]\n",
    "for i in range(len(response['swaps'])):\n",
    "    symbol0_in.append(float(response['swaps'][i]['amount0In']))\n",
    "    symbol1_in.append(float(response['swaps'][i]['amount1In']))\n",
    "    symbol0_out.append(float(response['swaps'][i]['amount0Out']))\n",
    "    symbol1_out.append(float(response['swaps'][i]['amount1Out']))\n",
    "    symbol0.append(response['swaps'][i]['pair']['token0']['symbol'])\n",
    "    symbol1.append(response['swaps'][i]['pair']['token1']['symbol'])\n",
    "    volume.append(float(response['swaps'][i]['amountUSD']))\n",
    "    tran_id.append(response['swaps'][i]['id'])\n",
    "\n",
    "dataframe = pd.DataFrame(id)\n",
    "dataframe.columns=['DateTime']\n",
    "dataframe['DateTime']=id\n",
    "dataframe['Transaction_Id']=tran_id\n",
    "dataframe['Symbol0']=symbol0\n",
    "dataframe['Symbol1']=symbol1\n",
    "dataframe['Symbol0_In']=symbol0_in\n",
    "dataframe['Symbol1_In']=symbol1_in\n",
    "dataframe['Symbol0_Out']=symbol0_out\n",
    "dataframe['Symbol1_Out']=symbol1_out\n",
    "dataframe['Transaction_amount']=volume\n",
    "dataframe"
   ]
  },
  {
   "cell_type": "markdown",
   "id": "identified-matter",
   "metadata": {},
   "source": [
    "# Uniswap In and Out Chart\n"
   ]
  },
  {
   "cell_type": "code",
   "execution_count": 536,
   "id": "boolean-hayes",
   "metadata": {
    "scrolled": false
   },
   "outputs": [
    {
     "data": {
      "text/plain": [
       "<matplotlib.legend.Legend at 0x1b2a5321e80>"
      ]
     },
     "execution_count": 536,
     "metadata": {},
     "output_type": "execute_result"
    },
    {
     "data": {
      "image/png": "[encoded data removed]",
      "text/plain": [
       "<Figure size 864x360 with 1 Axes>"
      ]
     },
     "metadata": {
      "needs_background": "light"
     },
     "output_type": "display_data"
    }
   ],
   "source": [
    "import matplotlib.pyplot as plt\n",
    "plt.figure(figsize=(12,5))\n",
    "plt.title(\"Uniswap In and Out Chart\")\n",
    "plt.plot(dataframe['Symbol0_In'],label='UNI_in')\n",
    "plt.plot(dataframe['Symbol0_Out'],label='UNI_out')\n",
    "plt.legend()"
   ]
  },
  {
   "cell_type": "markdown",
   "id": "adjustable-elements",
   "metadata": {},
   "source": [
    "# Etherium(wrapped) In and Out Chart"
   ]
  },
  {
   "cell_type": "code",
   "execution_count": 537,
   "id": "composite-detail",
   "metadata": {
    "scrolled": false
   },
   "outputs": [
    {
     "data": {
      "text/plain": [
       "<matplotlib.legend.Legend at 0x1b2a3df59b0>"
      ]
     },
     "execution_count": 537,
     "metadata": {},
     "output_type": "execute_result"
    },
    {
     "data": {
      "image/png": "[encoded data removed]",
      "text/plain": [
       "<Figure size 864x360 with 1 Axes>"
      ]
     },
     "metadata": {
      "needs_background": "light"
     },
     "output_type": "display_data"
    }
   ],
   "source": [
    "plt.figure(figsize=(12,5))\n",
    "plt.title(\"Etherium(wrapped) In and Out Chart\")\n",
    "plt.plot(dataframe['Symbol1_In'],label='WETH_in')\n",
    "plt.plot(dataframe['Symbol1_Out'],label='WETH_out')\n",
    "plt.legend()"
   ]
  },
  {
   "cell_type": "markdown",
   "id": "focused-steering",
   "metadata": {},
   "source": [
    "# Transaction Amount(USD) Chart"
   ]
  },
  {
   "cell_type": "code",
   "execution_count": 538,
   "id": "blond-conversation",
   "metadata": {
    "scrolled": false
   },
   "outputs": [
    {
     "data": {
      "text/plain": [
       "[<matplotlib.lines.Line2D at 0x1b2a5241940>]"
      ]
     },
     "execution_count": 538,
     "metadata": {},
     "output_type": "execute_result"
    },
    {
     "data": {
      "image/png": "[encoded data removed]",
      "text/plain": [
       "<Figure size 864x360 with 1 Axes>"
      ]
     },
     "metadata": {
      "needs_background": "light"
     },
     "output_type": "display_data"
    }
   ],
   "source": [
    "plt.figure(figsize=(12,5))\n",
    "plt.title(\"Transaction Amount(USD) Chart\")\n",
    "plt.plot(dataframe['Transaction_amount'])"
   ]
  },
  {
   "cell_type": "markdown",
   "id": "single-respect",
   "metadata": {},
   "source": [
    "# Most valued 5 Transactions"
   ]
  },
  {
   "cell_type": "code",
   "execution_count": 539,
   "id": "current-indonesia",
   "metadata": {},
   "outputs": [
    {
     "name": "stdout",
     "output_type": "stream",
     "text": [
      "Most valued 5 Transactions\n"
     ]
    },
    {
     "data": {
      "text/html": [
       "<div>\n",
       "<style scoped>\n",
       "    .dataframe tbody tr th:only-of-type {\n",
       "        vertical-align: middle;\n",
       "    }\n",
       "\n",
       "    .dataframe tbody tr th {\n",
       "        vertical-align: top;\n",
       "    }\n",
       "\n",
       "    .dataframe thead th {\n",
       "        text-align: right;\n",
       "    }\n",
       "</style>\n",
       "<table border=\"1\" class=\"dataframe\">\n",
       "  <thead>\n",
       "    <tr style=\"text-align: right;\">\n",
       "      <th></th>\n",
       "      <th>DateTime</th>\n",
       "      <th>Transaction_Id</th>\n",
       "      <th>Symbol0</th>\n",
       "      <th>Symbol1</th>\n",
       "      <th>Symbol0_In</th>\n",
       "      <th>Symbol1_In</th>\n",
       "      <th>Symbol0_Out</th>\n",
       "      <th>Symbol1_Out</th>\n",
       "      <th>Transaction_amount</th>\n",
       "    </tr>\n",
       "  </thead>\n",
       "  <tbody>\n",
       "    <tr>\n",
       "      <th>402</th>\n",
       "      <td>2021-06-22 18:27:08</td>\n",
       "      <td>0x6f39d7c546979ed6fcccaf27dba6134ff5dd5eeb002e...</td>\n",
       "      <td>UNI</td>\n",
       "      <td>WETH</td>\n",
       "      <td>0.000000</td>\n",
       "      <td>108.281847</td>\n",
       "      <td>13434.392963</td>\n",
       "      <td>0.000000</td>\n",
       "      <td>193642.507136</td>\n",
       "    </tr>\n",
       "    <tr>\n",
       "      <th>332</th>\n",
       "      <td>2021-06-22 21:22:37</td>\n",
       "      <td>0x1cf9734e6bf863d61de3f011111c2e296f93506bfcba...</td>\n",
       "      <td>UNI</td>\n",
       "      <td>WETH</td>\n",
       "      <td>0.000000</td>\n",
       "      <td>102.309203</td>\n",
       "      <td>11970.753434</td>\n",
       "      <td>0.000000</td>\n",
       "      <td>190738.237209</td>\n",
       "    </tr>\n",
       "    <tr>\n",
       "      <th>695</th>\n",
       "      <td>2021-06-22 07:15:40</td>\n",
       "      <td>0x1a60c6f3c6e7de4280cea60cf35eac07862b7adac225...</td>\n",
       "      <td>UNI</td>\n",
       "      <td>WETH</td>\n",
       "      <td>0.000000</td>\n",
       "      <td>85.049263</td>\n",
       "      <td>9992.111819</td>\n",
       "      <td>0.000000</td>\n",
       "      <td>165787.275458</td>\n",
       "    </tr>\n",
       "    <tr>\n",
       "      <th>435</th>\n",
       "      <td>2021-06-22 17:44:59</td>\n",
       "      <td>0xba7e1f46c0ef25a0722007dad390e91235ebc2c56d6b...</td>\n",
       "      <td>UNI</td>\n",
       "      <td>WETH</td>\n",
       "      <td>11382.412796</td>\n",
       "      <td>0.000000</td>\n",
       "      <td>0.000000</td>\n",
       "      <td>90.053098</td>\n",
       "      <td>164501.780412</td>\n",
       "    </tr>\n",
       "    <tr>\n",
       "      <th>331</th>\n",
       "      <td>2021-06-22 21:22:37</td>\n",
       "      <td>0x2a27a61cc7d2e8c1d86878e9159f392df63bff165154...</td>\n",
       "      <td>UNI</td>\n",
       "      <td>WETH</td>\n",
       "      <td>9203.970321</td>\n",
       "      <td>0.000000</td>\n",
       "      <td>0.000000</td>\n",
       "      <td>78.098973</td>\n",
       "      <td>145602.349982</td>\n",
       "    </tr>\n",
       "  </tbody>\n",
       "</table>\n",
       "</div>"
      ],
      "text/plain": [
       "               DateTime                                     Transaction_Id  \\\n",
       "402 2021-06-22 18:27:08  0x6f39d7c546979ed6fcccaf27dba6134ff5dd5eeb002e...   \n",
       "332 2021-06-22 21:22:37  0x1cf9734e6bf863d61de3f011111c2e296f93506bfcba...   \n",
       "695 2021-06-22 07:15:40  0x1a60c6f3c6e7de4280cea60cf35eac07862b7adac225...   \n",
       "435 2021-06-22 17:44:59  0xba7e1f46c0ef25a0722007dad390e91235ebc2c56d6b...   \n",
       "331 2021-06-22 21:22:37  0x2a27a61cc7d2e8c1d86878e9159f392df63bff165154...   \n",
       "\n",
       "    Symbol0 Symbol1    Symbol0_In  Symbol1_In   Symbol0_Out  Symbol1_Out  \\\n",
       "402     UNI    WETH      0.000000  108.281847  13434.392963     0.000000   \n",
       "332     UNI    WETH      0.000000  102.309203  11970.753434     0.000000   \n",
       "695     UNI    WETH      0.000000   85.049263   9992.111819     0.000000   \n",
       "435     UNI    WETH  11382.412796    0.000000      0.000000    90.053098   \n",
       "331     UNI    WETH   9203.970321    0.000000      0.000000    78.098973   \n",
       "\n",
       "     Transaction_amount  \n",
       "402       193642.507136  \n",
       "332       190738.237209  \n",
       "695       165787.275458  \n",
       "435       164501.780412  \n",
       "331       145602.349982  "
      ]
     },
     "execution_count": 539,
     "metadata": {},
     "output_type": "execute_result"
    }
   ],
   "source": [
    "sort_data = dataframe.sort_values([\"Transaction_amount\"],ascending=False)\n",
    "print(\"Most valued 5 Transactions\")\n",
    "sort_data[:5]"
   ]
  },
  {
   "cell_type": "markdown",
   "id": "sized-subscriber",
   "metadata": {},
   "source": [
    "# Least Valued 5 Transaction"
   ]
  },
  {
   "cell_type": "code",
   "execution_count": 540,
   "id": "loving-creator",
   "metadata": {
    "scrolled": true
   },
   "outputs": [
    {
     "data": {
      "text/html": [
       "<div>\n",
       "<style scoped>\n",
       "    .dataframe tbody tr th:only-of-type {\n",
       "        vertical-align: middle;\n",
       "    }\n",
       "\n",
       "    .dataframe tbody tr th {\n",
       "        vertical-align: top;\n",
       "    }\n",
       "\n",
       "    .dataframe thead th {\n",
       "        text-align: right;\n",
       "    }\n",
       "</style>\n",
       "<table border=\"1\" class=\"dataframe\">\n",
       "  <thead>\n",
       "    <tr style=\"text-align: right;\">\n",
       "      <th></th>\n",
       "      <th>DateTime</th>\n",
       "      <th>Transaction_Id</th>\n",
       "      <th>Symbol0</th>\n",
       "      <th>Symbol1</th>\n",
       "      <th>Symbol0_In</th>\n",
       "      <th>Symbol1_In</th>\n",
       "      <th>Symbol0_Out</th>\n",
       "      <th>Symbol1_Out</th>\n",
       "      <th>Transaction_amount</th>\n",
       "    </tr>\n",
       "  </thead>\n",
       "  <tbody>\n",
       "    <tr>\n",
       "      <th>632</th>\n",
       "      <td>2021-06-22 10:27:45</td>\n",
       "      <td>0xb1d6eb77ba538fd697ea2312c5a0cb61dfc532553aed...</td>\n",
       "      <td>UNI</td>\n",
       "      <td>WETH</td>\n",
       "      <td>0.000000</td>\n",
       "      <td>0.000507</td>\n",
       "      <td>0.059052</td>\n",
       "      <td>0.000000</td>\n",
       "      <td>0.996100</td>\n",
       "    </tr>\n",
       "    <tr>\n",
       "      <th>91</th>\n",
       "      <td>2021-06-23 09:06:25</td>\n",
       "      <td>0x31a7c553a5cc4819bdc82ae55a886d1bef53ef446659...</td>\n",
       "      <td>UNI</td>\n",
       "      <td>WETH</td>\n",
       "      <td>0.054745</td>\n",
       "      <td>0.000000</td>\n",
       "      <td>0.000000</td>\n",
       "      <td>0.000491</td>\n",
       "      <td>0.987598</td>\n",
       "    </tr>\n",
       "    <tr>\n",
       "      <th>743</th>\n",
       "      <td>2021-06-22 05:55:27</td>\n",
       "      <td>0xa6f009782b67f6ac1d42d526b192989f150f52a8ff54...</td>\n",
       "      <td>UNI</td>\n",
       "      <td>WETH</td>\n",
       "      <td>0.000000</td>\n",
       "      <td>0.000166</td>\n",
       "      <td>0.020000</td>\n",
       "      <td>0.000000</td>\n",
       "      <td>0.310388</td>\n",
       "    </tr>\n",
       "    <tr>\n",
       "      <th>18</th>\n",
       "      <td>2021-06-23 12:20:54</td>\n",
       "      <td>0xeff6c89c76de3091bb998e671b3979d3a5c2d00652e7...</td>\n",
       "      <td>UNI</td>\n",
       "      <td>WETH</td>\n",
       "      <td>0.000000</td>\n",
       "      <td>0.000100</td>\n",
       "      <td>0.011153</td>\n",
       "      <td>0.000000</td>\n",
       "      <td>0.201366</td>\n",
       "    </tr>\n",
       "    <tr>\n",
       "      <th>568</th>\n",
       "      <td>2021-06-22 13:03:54</td>\n",
       "      <td>0xa38949446fc8373a28288372d888da4bd7c7e651f400...</td>\n",
       "      <td>UNI</td>\n",
       "      <td>WETH</td>\n",
       "      <td>0.001000</td>\n",
       "      <td>0.000000</td>\n",
       "      <td>0.000000</td>\n",
       "      <td>0.000008</td>\n",
       "      <td>0.016397</td>\n",
       "    </tr>\n",
       "  </tbody>\n",
       "</table>\n",
       "</div>"
      ],
      "text/plain": [
       "               DateTime                                     Transaction_Id  \\\n",
       "632 2021-06-22 10:27:45  0xb1d6eb77ba538fd697ea2312c5a0cb61dfc532553aed...   \n",
       "91  2021-06-23 09:06:25  0x31a7c553a5cc4819bdc82ae55a886d1bef53ef446659...   \n",
       "743 2021-06-22 05:55:27  0xa6f009782b67f6ac1d42d526b192989f150f52a8ff54...   \n",
       "18  2021-06-23 12:20:54  0xeff6c89c76de3091bb998e671b3979d3a5c2d00652e7...   \n",
       "568 2021-06-22 13:03:54  0xa38949446fc8373a28288372d888da4bd7c7e651f400...   \n",
       "\n",
       "    Symbol0 Symbol1  Symbol0_In  Symbol1_In  Symbol0_Out  Symbol1_Out  \\\n",
       "632     UNI    WETH    0.000000    0.000507     0.059052     0.000000   \n",
       "91      UNI    WETH    0.054745    0.000000     0.000000     0.000491   \n",
       "743     UNI    WETH    0.000000    0.000166     0.020000     0.000000   \n",
       "18      UNI    WETH    0.000000    0.000100     0.011153     0.000000   \n",
       "568     UNI    WETH    0.001000    0.000000     0.000000     0.000008   \n",
       "\n",
       "     Transaction_amount  \n",
       "632            0.996100  \n",
       "91             0.987598  \n",
       "743            0.310388  \n",
       "18             0.201366  \n",
       "568            0.016397  "
      ]
     },
     "execution_count": 540,
     "metadata": {},
     "output_type": "execute_result"
    }
   ],
   "source": [
    "sort_data[-5:]"
   ]
  },
  {
   "cell_type": "code",
   "execution_count": 541,
   "id": "acting-morning",
   "metadata": {
    "scrolled": false
   },
   "outputs": [
    {
     "data": {
      "text/html": [
       "<div>\n",
       "<style scoped>\n",
       "    .dataframe tbody tr th:only-of-type {\n",
       "        vertical-align: middle;\n",
       "    }\n",
       "\n",
       "    .dataframe tbody tr th {\n",
       "        vertical-align: top;\n",
       "    }\n",
       "\n",
       "    .dataframe thead th {\n",
       "        text-align: right;\n",
       "    }\n",
       "</style>\n",
       "<table border=\"1\" class=\"dataframe\">\n",
       "  <thead>\n",
       "    <tr style=\"text-align: right;\">\n",
       "      <th></th>\n",
       "      <th>Symbol0_In</th>\n",
       "      <th>Symbol1_In</th>\n",
       "      <th>Symbol0_Out</th>\n",
       "      <th>Symbol1_Out</th>\n",
       "      <th>Transaction_amount</th>\n",
       "    </tr>\n",
       "  </thead>\n",
       "  <tbody>\n",
       "    <tr>\n",
       "      <th>count</th>\n",
       "      <td>1000.000000</td>\n",
       "      <td>1000.000000</td>\n",
       "      <td>1000.000000</td>\n",
       "      <td>1000.000000</td>\n",
       "      <td>1000.000000</td>\n",
       "    </tr>\n",
       "    <tr>\n",
       "      <th>mean</th>\n",
       "      <td>420.656027</td>\n",
       "      <td>3.457405</td>\n",
       "      <td>408.856272</td>\n",
       "      <td>3.541007</td>\n",
       "      <td>13180.740263</td>\n",
       "    </tr>\n",
       "    <tr>\n",
       "      <th>std</th>\n",
       "      <td>886.856588</td>\n",
       "      <td>9.544960</td>\n",
       "      <td>1139.723258</td>\n",
       "      <td>7.363913</td>\n",
       "      <td>20388.685263</td>\n",
       "    </tr>\n",
       "    <tr>\n",
       "      <th>min</th>\n",
       "      <td>0.000000</td>\n",
       "      <td>0.000000</td>\n",
       "      <td>0.000000</td>\n",
       "      <td>0.000000</td>\n",
       "      <td>0.016397</td>\n",
       "    </tr>\n",
       "    <tr>\n",
       "      <th>25%</th>\n",
       "      <td>0.000000</td>\n",
       "      <td>0.000000</td>\n",
       "      <td>0.000000</td>\n",
       "      <td>0.000000</td>\n",
       "      <td>538.507343</td>\n",
       "    </tr>\n",
       "    <tr>\n",
       "      <th>50%</th>\n",
       "      <td>20.074323</td>\n",
       "      <td>0.000000</td>\n",
       "      <td>0.000000</td>\n",
       "      <td>0.179240</td>\n",
       "      <td>6572.532444</td>\n",
       "    </tr>\n",
       "    <tr>\n",
       "      <th>75%</th>\n",
       "      <td>500.000000</td>\n",
       "      <td>0.740410</td>\n",
       "      <td>90.228126</td>\n",
       "      <td>4.276965</td>\n",
       "      <td>19015.334621</td>\n",
       "    </tr>\n",
       "    <tr>\n",
       "      <th>max</th>\n",
       "      <td>11382.412796</td>\n",
       "      <td>108.281847</td>\n",
       "      <td>13434.392963</td>\n",
       "      <td>90.053098</td>\n",
       "      <td>193642.507136</td>\n",
       "    </tr>\n",
       "  </tbody>\n",
       "</table>\n",
       "</div>"
      ],
      "text/plain": [
       "         Symbol0_In   Symbol1_In   Symbol0_Out  Symbol1_Out  \\\n",
       "count   1000.000000  1000.000000   1000.000000  1000.000000   \n",
       "mean     420.656027     3.457405    408.856272     3.541007   \n",
       "std      886.856588     9.544960   1139.723258     7.363913   \n",
       "min        0.000000     0.000000      0.000000     0.000000   \n",
       "25%        0.000000     0.000000      0.000000     0.000000   \n",
       "50%       20.074323     0.000000      0.000000     0.179240   \n",
       "75%      500.000000     0.740410     90.228126     4.276965   \n",
       "max    11382.412796   108.281847  13434.392963    90.053098   \n",
       "\n",
       "       Transaction_amount  \n",
       "count         1000.000000  \n",
       "mean         13180.740263  \n",
       "std          20388.685263  \n",
       "min              0.016397  \n",
       "25%            538.507343  \n",
       "50%           6572.532444  \n",
       "75%          19015.334621  \n",
       "max         193642.507136  "
      ]
     },
     "execution_count": 541,
     "metadata": {},
     "output_type": "execute_result"
    }
   ],
   "source": [
    "dataframe.describe()"
   ]
  },
  {
   "cell_type": "markdown",
   "id": "linear-hartford",
   "metadata": {},
   "source": [
    "# Total Volume in UNI/WETH pair(in billion dollar)"
   ]
  },
  {
   "cell_type": "code",
   "execution_count": 549,
   "id": "ecological-industry",
   "metadata": {},
   "outputs": [
    {
     "name": "stdout",
     "output_type": "stream",
     "text": [
      "6.6354323389170355\n"
     ]
    }
   ],
   "source": [
    "print(float(response['swaps'][0]['pair']['volumeUSD'])/10**9)"
   ]
  }
 ],
 "metadata": {
  "kernelspec": {
   "display_name": "Python 3",
   "language": "python",
   "name": "python3"
  },
  "language_info": {
   "codemirror_mode": {
    "name": "ipython",
    "version": 3
   },
   "file_extension": ".py",
   "mimetype": "text/x-python",
   "name": "python",
   "nbconvert_exporter": "python",
   "pygments_lexer": "ipython3",
   "version": "3.6.12"
  }
 },
 "nbformat": 4,
 "nbformat_minor": 5
}
